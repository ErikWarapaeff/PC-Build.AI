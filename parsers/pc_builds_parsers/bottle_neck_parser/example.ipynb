{
 "cells": [
  {
   "cell_type": "code",
   "execution_count": 20,
   "metadata": {},
   "outputs": [],
   "source": [
    "from bottle_neck import *"
   ]
  },
  {
   "cell_type": "code",
   "execution_count": 21,
   "metadata": {},
   "outputs": [
    {
     "ename": "ElementClickInterceptedException",
     "evalue": "Message: element click intercepted: Element <button type=\"submit\" class=\"w-full bg-indigo-600 text-white py-4 px-4 rounded-lg text-lg font-bold hover:bg-indigo-500 focus:outline-none focus:ring-2 focus:ring-indigo-600 focus:ring-offset-2 transition-all duration-200\">...</button> is not clickable at point (456, 114). Other element would receive the click: <div class=\"px-3 py-2.5 rounded-md hover:bg-gray-50 cursor-pointer text-gray-900 text-sm font-medium transition-colors duration-150 flex items-center space-x-2\">...</div>\n  (Session info: chrome=132.0.6834.83)\nStacktrace:\n\tGetHandleVerifier [0x00007FF688CEFBE5+28741]\n\t(No symbol) [0x00007FF688C57890]\n\t(No symbol) [0x00007FF688AF4FDA]\n\t(No symbol) [0x00007FF688B51048]\n\t(No symbol) [0x00007FF688B4EA92]\n\t(No symbol) [0x00007FF688B4BBA1]\n\t(No symbol) [0x00007FF688B4AB01]\n\t(No symbol) [0x00007FF688B3C574]\n\t(No symbol) [0x00007FF688B6FF0A]\n\t(No symbol) [0x00007FF688B3BE46]\n\t(No symbol) [0x00007FF688B70120]\n\t(No symbol) [0x00007FF688B900B4]\n\t(No symbol) [0x00007FF688B6FCB3]\n\t(No symbol) [0x00007FF688B39FB3]\n\t(No symbol) [0x00007FF688B3B331]\n\tGetHandleVerifier [0x00007FF68902A73D+3414941]\n\tGetHandleVerifier [0x00007FF68903E64A+3496618]\n\tGetHandleVerifier [0x00007FF68903413D+3454365]\n\tGetHandleVerifier [0x00007FF688DB848B+850155]\n\t(No symbol) [0x00007FF688C637FF]\n\t(No symbol) [0x00007FF688C5F0C4]\n\t(No symbol) [0x00007FF688C5F25D]\n\t(No symbol) [0x00007FF688C4E079]\n\tBaseThreadInitThunk [0x00007FF911CB7374+20]\n\tRtlUserThreadStart [0x00007FF913B3CC91+33]\n",
     "output_type": "error",
     "traceback": [
      "\u001b[1;31m---------------------------------------------------------------------------\u001b[0m",
      "\u001b[1;31mElementClickInterceptedException\u001b[0m          Traceback (most recent call last)",
      "Cell \u001b[1;32mIn[21], line 1\u001b[0m\n\u001b[1;32m----> 1\u001b[0m result \u001b[38;5;241m=\u001b[39m \u001b[43mcalculate_bottleneck\u001b[49m\u001b[43m(\u001b[49m\u001b[43mprocessor\u001b[49m\u001b[38;5;241;43m=\u001b[39;49m\u001b[38;5;124;43m\"\u001b[39;49m\u001b[38;5;124;43mIntel core i9-13900K\u001b[39;49m\u001b[38;5;124;43m\"\u001b[39;49m\u001b[43m,\u001b[49m\u001b[43m \u001b[49m\u001b[43mgpu\u001b[49m\u001b[38;5;241;43m=\u001b[39;49m\u001b[38;5;124;43m\"\u001b[39;49m\u001b[38;5;124;43mGeForce RTX 3080\u001b[39;49m\u001b[38;5;124;43m\"\u001b[39;49m\u001b[43m,\u001b[49m\u001b[43m \u001b[49m\u001b[43mresolution\u001b[49m\u001b[38;5;241;43m=\u001b[39;49m\u001b[38;5;124;43m\"\u001b[39;49m\u001b[38;5;124;43m1440p\u001b[39;49m\u001b[38;5;124;43m\"\u001b[39;49m\u001b[43m)\u001b[49m\n",
      "File \u001b[1;32mc:\\Users\\Erik\\Documents\\VSCode\\PC-Build.AI\\parsers\\pc_builds_parsers\\bottle_neck_parser\\bottle_neck.py:66\u001b[0m, in \u001b[0;36mcalculate_bottleneck\u001b[1;34m(processor, gpu, resolution)\u001b[0m\n\u001b[0;32m     62\u001b[0m \u001b[38;5;66;03m# 4. Клик по кнопке \"Calculate Bottleneck\"\u001b[39;00m\n\u001b[0;32m     63\u001b[0m calculate_button \u001b[38;5;241m=\u001b[39m wait\u001b[38;5;241m.\u001b[39muntil(\n\u001b[0;32m     64\u001b[0m     EC\u001b[38;5;241m.\u001b[39melement_to_be_clickable((By\u001b[38;5;241m.\u001b[39mXPATH, \u001b[38;5;124m\"\u001b[39m\u001b[38;5;124m//button[text()=\u001b[39m\u001b[38;5;124m'\u001b[39m\u001b[38;5;124mCalculate Bottleneck\u001b[39m\u001b[38;5;124m'\u001b[39m\u001b[38;5;124m]\u001b[39m\u001b[38;5;124m\"\u001b[39m))\n\u001b[0;32m     65\u001b[0m )\n\u001b[1;32m---> 66\u001b[0m \u001b[43mcalculate_button\u001b[49m\u001b[38;5;241;43m.\u001b[39;49m\u001b[43mclick\u001b[49m\u001b[43m(\u001b[49m\u001b[43m)\u001b[49m\n\u001b[0;32m     68\u001b[0m \u001b[38;5;66;03m# Извлечение информации:\u001b[39;00m\n\u001b[0;32m     69\u001b[0m \u001b[38;5;66;03m# 1. CPU Performance\u001b[39;00m\n\u001b[0;32m     70\u001b[0m cpu_performance \u001b[38;5;241m=\u001b[39m wait\u001b[38;5;241m.\u001b[39muntil(\n\u001b[0;32m     71\u001b[0m     EC\u001b[38;5;241m.\u001b[39mpresence_of_element_located((By\u001b[38;5;241m.\u001b[39mXPATH, \u001b[38;5;124m\"\u001b[39m\u001b[38;5;124m//span[text()=\u001b[39m\u001b[38;5;124m'\u001b[39m\u001b[38;5;124mCPU Performance\u001b[39m\u001b[38;5;124m'\u001b[39m\u001b[38;5;124m]/following-sibling::span\u001b[39m\u001b[38;5;124m\"\u001b[39m))\n\u001b[0;32m     72\u001b[0m )\u001b[38;5;241m.\u001b[39mtext\n",
      "File \u001b[1;32mc:\\Users\\Erik\\Documents\\VSCode\\SLAVA_Platform\\.venv\\Lib\\site-packages\\selenium\\webdriver\\remote\\webelement.py:94\u001b[0m, in \u001b[0;36mWebElement.click\u001b[1;34m(self)\u001b[0m\n\u001b[0;32m     92\u001b[0m \u001b[38;5;28;01mdef\u001b[39;00m\u001b[38;5;250m \u001b[39m\u001b[38;5;21mclick\u001b[39m(\u001b[38;5;28mself\u001b[39m) \u001b[38;5;241m-\u001b[39m\u001b[38;5;241m>\u001b[39m \u001b[38;5;28;01mNone\u001b[39;00m:\n\u001b[0;32m     93\u001b[0m \u001b[38;5;250m    \u001b[39m\u001b[38;5;124;03m\"\"\"Clicks the element.\"\"\"\u001b[39;00m\n\u001b[1;32m---> 94\u001b[0m     \u001b[38;5;28;43mself\u001b[39;49m\u001b[38;5;241;43m.\u001b[39;49m\u001b[43m_execute\u001b[49m\u001b[43m(\u001b[49m\u001b[43mCommand\u001b[49m\u001b[38;5;241;43m.\u001b[39;49m\u001b[43mCLICK_ELEMENT\u001b[49m\u001b[43m)\u001b[49m\n",
      "File \u001b[1;32mc:\\Users\\Erik\\Documents\\VSCode\\SLAVA_Platform\\.venv\\Lib\\site-packages\\selenium\\webdriver\\remote\\webelement.py:395\u001b[0m, in \u001b[0;36mWebElement._execute\u001b[1;34m(self, command, params)\u001b[0m\n\u001b[0;32m    393\u001b[0m     params \u001b[38;5;241m=\u001b[39m {}\n\u001b[0;32m    394\u001b[0m params[\u001b[38;5;124m\"\u001b[39m\u001b[38;5;124mid\u001b[39m\u001b[38;5;124m\"\u001b[39m] \u001b[38;5;241m=\u001b[39m \u001b[38;5;28mself\u001b[39m\u001b[38;5;241m.\u001b[39m_id\n\u001b[1;32m--> 395\u001b[0m \u001b[38;5;28;01mreturn\u001b[39;00m \u001b[38;5;28;43mself\u001b[39;49m\u001b[38;5;241;43m.\u001b[39;49m\u001b[43m_parent\u001b[49m\u001b[38;5;241;43m.\u001b[39;49m\u001b[43mexecute\u001b[49m\u001b[43m(\u001b[49m\u001b[43mcommand\u001b[49m\u001b[43m,\u001b[49m\u001b[43m \u001b[49m\u001b[43mparams\u001b[49m\u001b[43m)\u001b[49m\n",
      "File \u001b[1;32mc:\\Users\\Erik\\Documents\\VSCode\\SLAVA_Platform\\.venv\\Lib\\site-packages\\selenium\\webdriver\\remote\\webdriver.py:384\u001b[0m, in \u001b[0;36mWebDriver.execute\u001b[1;34m(self, driver_command, params)\u001b[0m\n\u001b[0;32m    382\u001b[0m response \u001b[38;5;241m=\u001b[39m \u001b[38;5;28mself\u001b[39m\u001b[38;5;241m.\u001b[39mcommand_executor\u001b[38;5;241m.\u001b[39mexecute(driver_command, params)\n\u001b[0;32m    383\u001b[0m \u001b[38;5;28;01mif\u001b[39;00m response:\n\u001b[1;32m--> 384\u001b[0m     \u001b[38;5;28;43mself\u001b[39;49m\u001b[38;5;241;43m.\u001b[39;49m\u001b[43merror_handler\u001b[49m\u001b[38;5;241;43m.\u001b[39;49m\u001b[43mcheck_response\u001b[49m\u001b[43m(\u001b[49m\u001b[43mresponse\u001b[49m\u001b[43m)\u001b[49m\n\u001b[0;32m    385\u001b[0m     response[\u001b[38;5;124m\"\u001b[39m\u001b[38;5;124mvalue\u001b[39m\u001b[38;5;124m\"\u001b[39m] \u001b[38;5;241m=\u001b[39m \u001b[38;5;28mself\u001b[39m\u001b[38;5;241m.\u001b[39m_unwrap_value(response\u001b[38;5;241m.\u001b[39mget(\u001b[38;5;124m\"\u001b[39m\u001b[38;5;124mvalue\u001b[39m\u001b[38;5;124m\"\u001b[39m, \u001b[38;5;28;01mNone\u001b[39;00m))\n\u001b[0;32m    386\u001b[0m     \u001b[38;5;28;01mreturn\u001b[39;00m response\n",
      "File \u001b[1;32mc:\\Users\\Erik\\Documents\\VSCode\\SLAVA_Platform\\.venv\\Lib\\site-packages\\selenium\\webdriver\\remote\\errorhandler.py:232\u001b[0m, in \u001b[0;36mErrorHandler.check_response\u001b[1;34m(self, response)\u001b[0m\n\u001b[0;32m    230\u001b[0m         alert_text \u001b[38;5;241m=\u001b[39m value[\u001b[38;5;124m\"\u001b[39m\u001b[38;5;124malert\u001b[39m\u001b[38;5;124m\"\u001b[39m]\u001b[38;5;241m.\u001b[39mget(\u001b[38;5;124m\"\u001b[39m\u001b[38;5;124mtext\u001b[39m\u001b[38;5;124m\"\u001b[39m)\n\u001b[0;32m    231\u001b[0m     \u001b[38;5;28;01mraise\u001b[39;00m exception_class(message, screen, stacktrace, alert_text)  \u001b[38;5;66;03m# type: ignore[call-arg]  # mypy is not smart enough here\u001b[39;00m\n\u001b[1;32m--> 232\u001b[0m \u001b[38;5;28;01mraise\u001b[39;00m exception_class(message, screen, stacktrace)\n",
      "\u001b[1;31mElementClickInterceptedException\u001b[0m: Message: element click intercepted: Element <button type=\"submit\" class=\"w-full bg-indigo-600 text-white py-4 px-4 rounded-lg text-lg font-bold hover:bg-indigo-500 focus:outline-none focus:ring-2 focus:ring-indigo-600 focus:ring-offset-2 transition-all duration-200\">...</button> is not clickable at point (456, 114). Other element would receive the click: <div class=\"px-3 py-2.5 rounded-md hover:bg-gray-50 cursor-pointer text-gray-900 text-sm font-medium transition-colors duration-150 flex items-center space-x-2\">...</div>\n  (Session info: chrome=132.0.6834.83)\nStacktrace:\n\tGetHandleVerifier [0x00007FF688CEFBE5+28741]\n\t(No symbol) [0x00007FF688C57890]\n\t(No symbol) [0x00007FF688AF4FDA]\n\t(No symbol) [0x00007FF688B51048]\n\t(No symbol) [0x00007FF688B4EA92]\n\t(No symbol) [0x00007FF688B4BBA1]\n\t(No symbol) [0x00007FF688B4AB01]\n\t(No symbol) [0x00007FF688B3C574]\n\t(No symbol) [0x00007FF688B6FF0A]\n\t(No symbol) [0x00007FF688B3BE46]\n\t(No symbol) [0x00007FF688B70120]\n\t(No symbol) [0x00007FF688B900B4]\n\t(No symbol) [0x00007FF688B6FCB3]\n\t(No symbol) [0x00007FF688B39FB3]\n\t(No symbol) [0x00007FF688B3B331]\n\tGetHandleVerifier [0x00007FF68902A73D+3414941]\n\tGetHandleVerifier [0x00007FF68903E64A+3496618]\n\tGetHandleVerifier [0x00007FF68903413D+3454365]\n\tGetHandleVerifier [0x00007FF688DB848B+850155]\n\t(No symbol) [0x00007FF688C637FF]\n\t(No symbol) [0x00007FF688C5F0C4]\n\t(No symbol) [0x00007FF688C5F25D]\n\t(No symbol) [0x00007FF688C4E079]\n\tBaseThreadInitThunk [0x00007FF911CB7374+20]\n\tRtlUserThreadStart [0x00007FF913B3CC91+33]\n"
     ]
    }
   ],
   "source": [
    "result = calculate_bottleneck(processor=\"Intel core i9-13900K\", gpu=\"GeForce RTX 3080\", resolution=\"1440p\")"
   ]
  }
 ],
 "metadata": {
  "kernelspec": {
   "display_name": ".venv",
   "language": "python",
   "name": "python3"
  },
  "language_info": {
   "codemirror_mode": {
    "name": "ipython",
    "version": 3
   },
   "file_extension": ".py",
   "mimetype": "text/x-python",
   "name": "python",
   "nbconvert_exporter": "python",
   "pygments_lexer": "ipython3",
   "version": "3.12.0"
  }
 },
 "nbformat": 4,
 "nbformat_minor": 2
}
